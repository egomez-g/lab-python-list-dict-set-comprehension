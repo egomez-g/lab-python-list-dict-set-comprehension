{
 "cells": [
  {
   "cell_type": "markdown",
   "id": "25d7736c-ba17-4aff-b6bb-66eba20fbf4e",
   "metadata": {},
   "source": [
    "# Lab | List, Dict and Set Comprehension"
   ]
  },
  {
   "cell_type": "markdown",
   "id": "7dd3cbde-675a-4b81-92c3-f728846dbe06",
   "metadata": {},
   "source": [
    "## Exercise: Managing Customer Orders Optimized with Comprehension"
   ]
  },
  {
   "cell_type": "markdown",
   "id": "5d500160-2fb7-4777-b5e4-09d45ebaf328",
   "metadata": {},
   "source": [
    "In the previous exercise, you developed a program to manage customer orders and inventory. Now, let's take it a step further and incorporate comprehension into your code.\n",
    "\n",
    "Follow the steps below to complete the exercise:\n",
    "\n",
    "1. Review your code from the previous exercise and identify areas where you can apply comprehension to simplify and streamline your code. \n",
    "\n",
    "    - *Hint: Apply it to initialize inventory, updating the inventory and printing the updated inventory.*\n",
    "    \n",
    "    - For example, in initializing the inventory, we could have:\n",
    "    \n",
    "        ```python\n",
    "        def initialize_inventory(products):\n",
    "            inventory = {product: int(input(f\"Enter the quantity of {product}s available: \")) for product in products}\n",
    "            return inventory\n",
    "\n",
    "        ```\n",
    "<br>\n",
    "    \n",
    "    \n",
    "2. Modify the function get_customer_orders so it prompts the user to enter the number of customer orders and gathers the product names using a loop and user input. Use comprehension.\n",
    "\n",
    "3. Add a new function to calculate the total price of the customer order. For each product in customer_orders, prompt the user to enter the price of that product. Use comprehension to calculate the total price. Note: assume that the user can only have 1 unit of each product.\n",
    "\n",
    "4. Modify the update_inventory function to remove the product from the inventory if its quantity becomes zero after fulfilling the customer orders. Use comprehension to filter out the products with a quantity of zero from the inventory.\n",
    "\n",
    "5. Print the total price of the customer order.\n",
    "\n",
    "Your code should produce output similar to the following:\n",
    "\n",
    "```python\n",
    "Enter the quantity of t-shirts available:  5\n",
    "Enter the quantity of mugs available:  4\n",
    "Enter the quantity of hats available:  3\n",
    "Enter the quantity of books available:  2\n",
    "Enter the quantity of keychains available:  1\n",
    "Enter the number of customer orders:  2\n",
    "Enter the name of a product that a customer wants to order:  hat\n",
    "Enter the name of a product that a customer wants to order:  keychain\n",
    "\n",
    "Order Statistics:\n",
    "Total Products Ordered: 2\n",
    "Percentage of Unique Products Ordered: 40.0\n",
    "\n",
    "Updated Inventory:\n",
    "t-shirt: 5\n",
    "mug: 4\n",
    "hat: 2\n",
    "book: 2\n",
    "Enter the price of keychain:  5\n",
    "Enter the price of hat:  10\n",
    "Total Price: 15.0\n",
    "\n",
    "```\n"
   ]
  },
  {
   "cell_type": "code",
   "execution_count": 117,
   "id": "a713892d",
   "metadata": {},
   "outputs": [],
   "source": [
    "def getPrices(products):\n",
    "    prices = {}\n",
    "    for product in products:\n",
    "        prices[product] = int(input(f\"Enter the price of {product}\"))\n",
    "    return prices\n"
   ]
  },
  {
   "cell_type": "code",
   "execution_count": 118,
   "id": "1e280d5c",
   "metadata": {},
   "outputs": [],
   "source": [
    "def totalPrice(prices, costumer_orders):\n",
    "    return sum([prices[order] for order in costumer_orders if order in prices])"
   ]
  },
  {
   "cell_type": "code",
   "execution_count": 119,
   "id": "9c692160",
   "metadata": {},
   "outputs": [],
   "source": [
    "def updateInventory(costumer_orders, inventory):\n",
    "    for item in costumer_orders:\n",
    "        if item in inventory:\n",
    "            inventory[item] -= 1\n",
    "\n",
    "    to_remove = [i for i in inventory if inventory[i] == 0]\n",
    "\n",
    "    inventory = {i: inventory[i] for i in inventory if i not in to_remove}\n",
    "    print (inventory)\n",
    "\n",
    "    return inventory\n"
   ]
  },
  {
   "cell_type": "code",
   "execution_count": 120,
   "id": "1cacbc15",
   "metadata": {},
   "outputs": [
    {
     "name": "stdout",
     "output_type": "stream",
     "text": [
      "Order statistics:\n",
      "Total Products Ordered: 1\n",
      "Percentage of Unique Products Ordered: 20.0%\n",
      "\n",
      "{'t-shirt': 1, 'book': 1, 'keychain': 1, 'mug': 1}\n",
      "Updated inventory\n",
      "t-shirt : 1\n",
      "book : 1\n",
      "keychain : 1\n",
      "mug : 1\n",
      "Total Price: 12\n"
     ]
    }
   ],
   "source": [
    "def main():\n",
    "    products = {\n",
    "        \"t-shirt\",\n",
    "        \"mug\",\n",
    "        \"hat\",\n",
    "        \"book\",\n",
    "        \"keychain\"\n",
    "    }\n",
    "    \n",
    "    inventory = {i: int(input(f\"Enter the quantity of {i} available: \")) for i in products}\n",
    "    \n",
    "    inp_str = int (input(\"Enter the number of customer orders: \"))\n",
    "    customer_orders = {input(\"Enter the name of a product that a customer wants to order: \") for i in range(inp_str)}\n",
    "\n",
    "\n",
    "    print(\"Order statistics:\")\n",
    "    print(f\"Total Products Ordered: {len(customer_orders)}\")\n",
    "    #percentage\n",
    "    order_status = len(customer_orders) / len(products) * 100\n",
    "    print(f\"Percentage of Unique Products Ordered: {order_status}%\\n\")\n",
    "    \n",
    "    inventory = updateInventory(customer_orders, inventory)\n",
    "    print(\"Updated inventory\")\n",
    "    for i in inventory:\n",
    "        print(f\"{i} : {inventory[i]}\")\n",
    "    prices = getPrices(customer_orders)\n",
    "    print (f\"Total Price: {totalPrice(prices, customer_orders)}\")\n",
    "\n",
    "if __name__ == \"__main__\":\n",
    "    main()"
   ]
  }
 ],
 "metadata": {
  "kernelspec": {
   "display_name": "base",
   "language": "python",
   "name": "python3"
  },
  "language_info": {
   "codemirror_mode": {
    "name": "ipython",
    "version": 3
   },
   "file_extension": ".py",
   "mimetype": "text/x-python",
   "name": "python",
   "nbconvert_exporter": "python",
   "pygments_lexer": "ipython3",
   "version": "3.12.7"
  }
 },
 "nbformat": 4,
 "nbformat_minor": 5
}
